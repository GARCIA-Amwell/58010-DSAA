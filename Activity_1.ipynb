{
  "nbformat": 4,
  "nbformat_minor": 0,
  "metadata": {
    "colab": {
      "provenance": [],
      "authorship_tag": "ABX9TyPwvNiofjtiL7KLuBsUdZio",
      "include_colab_link": true
    },
    "kernelspec": {
      "name": "python3",
      "display_name": "Python 3"
    },
    "language_info": {
      "name": "python"
    }
  },
  "cells": [
    {
      "cell_type": "markdown",
      "metadata": {
        "id": "view-in-github",
        "colab_type": "text"
      },
      "source": [
        "<a href=\"https://colab.research.google.com/github/GARCIA-Amwell/58010-DSAA/blob/main/Activity_1.ipynb\" target=\"_parent\"><img src=\"https://colab.research.google.com/assets/colab-badge.svg\" alt=\"Open In Colab\"/></a>"
      ]
    },
    {
      "cell_type": "markdown",
      "source": [
        "**Test Content**\n",
        "\n",
        "1. Write a Python program to create an array of 10 integers and display the array items. Access individual elements through indexes and compute for the sum.\n",
        "2. Write a Python program to append a new item to the end of the array. Original array: numbers = [1, 2, 3, 4, 5, 6, 7, 8, 9, 10]\n",
        "3. Write a Python program to insert a new item before the second element in an existing array. Original array: numbers = [1, 2, 3, 4, 5, 6, 7, 8, 9, 10]\n",
        "4. Write a Python program to reverse the order of the items in the array.Original array: numbers = [5, 4, 3, 2, 1]\n",
        "5. Write a Python program to get the length of the array. Original array: numbers = [5, 4, 3, 2, 1]"
      ],
      "metadata": {
        "id": "roRFpxLA35R1"
      }
    },
    {
      "cell_type": "markdown",
      "source": [
        "**#1**"
      ],
      "metadata": {
        "id": "6Dq5zeiJ67s7"
      }
    },
    {
      "cell_type": "code",
      "source": [
        "arrays = [1, 2, 3, 4, 5, 6, 7, 8, 9, 10]\n",
        "for x in arrays:\n",
        "    print (x)\n",
        "ans = sum(arrays)\n",
        "print ('Sum of the Array is: ', ans)"
      ],
      "metadata": {
        "colab": {
          "base_uri": "https://localhost:8080/"
        },
        "id": "7TZ5q1Nt-cIx",
        "outputId": "278793bd-aab0-4c89-b3d6-37e8f2d86b5c"
      },
      "execution_count": 34,
      "outputs": [
        {
          "output_type": "stream",
          "name": "stdout",
          "text": [
            "1\n",
            "2\n",
            "3\n",
            "4\n",
            "5\n",
            "6\n",
            "7\n",
            "8\n",
            "9\n",
            "10\n",
            "Sum of the array is:  55\n"
          ]
        }
      ]
    },
    {
      "cell_type": "code",
      "source": [
        "arrays = [1, 2, 3, 4, 5, 6, 7, 8, 9, 10]\n",
        "arrays[0] = 1\n",
        "arrays[1] = 2\n",
        "arrays[2] = 3\n",
        "arrays[3] = 4\n",
        "arrays[4] = 5\n",
        "arrays[5] = 6\n",
        "arrays[6] = 7\n",
        "arrays[7] = 8\n",
        "arrays[8] = 9\n",
        "arrays[9] = 10\n",
        "for x in arrays:\n",
        "    print (x)\n",
        "ans = sum(arrays)\n",
        "print ('Sum of the Array is: ', ans)"
      ],
      "metadata": {
        "colab": {
          "base_uri": "https://localhost:8080/"
        },
        "id": "LNbjRVa__0PT",
        "outputId": "e40013e2-8bae-4ff1-84c3-9ff124773821"
      },
      "execution_count": 36,
      "outputs": [
        {
          "output_type": "stream",
          "name": "stdout",
          "text": [
            "1\n",
            "2\n",
            "3\n",
            "4\n",
            "5\n",
            "6\n",
            "7\n",
            "8\n",
            "9\n",
            "10\n",
            "Sum of the Array is:  55\n"
          ]
        }
      ]
    },
    {
      "cell_type": "markdown",
      "source": [
        "**#2**"
      ],
      "metadata": {
        "id": "NoDEIoZA6T8u"
      }
    },
    {
      "cell_type": "code",
      "source": [
        "numbers = [1, 2, 3, 4, 5, 6, 7, 8, 9, 10]\n",
        "numbers.append(1000)\n",
        "print(numbers)"
      ],
      "metadata": {
        "colab": {
          "base_uri": "https://localhost:8080/"
        },
        "id": "gMxsdMaH6W2c",
        "outputId": "25444677-ef6c-4bfd-b9e6-ecf9f23e799a"
      },
      "execution_count": 15,
      "outputs": [
        {
          "output_type": "stream",
          "name": "stdout",
          "text": [
            "[1, 2, 3, 4, 5, 6, 7, 8, 9, 10, 1000]\n"
          ]
        }
      ]
    },
    {
      "cell_type": "markdown",
      "source": [
        "**#3**"
      ],
      "metadata": {
        "id": "SkwEiGxX5VjX"
      }
    },
    {
      "cell_type": "code",
      "execution_count": 8,
      "metadata": {
        "colab": {
          "base_uri": "https://localhost:8080/"
        },
        "id": "f4QdQ2zp3x-l",
        "outputId": "8447ad2b-596d-4b77-ebec-940a1338fa43"
      },
      "outputs": [
        {
          "output_type": "stream",
          "name": "stdout",
          "text": [
            "[1, 2, 3, (11, 12), 5, 6, 7, 8, 9, 10]\n"
          ]
        }
      ],
      "source": [
        "numbers = [1, 2, 3, 4, 5, 6, 7, 8, 9, 10]\n",
        "numbers[3] = 11, 12\n",
        "print(numbers)"
      ]
    },
    {
      "cell_type": "markdown",
      "source": [
        "**#4**\n"
      ],
      "metadata": {
        "id": "EWX12Vom4Voy"
      }
    },
    {
      "cell_type": "code",
      "source": [
        "nums = [5, 4, 3, 2, 1]\n",
        "nums.sort()\n",
        "print('List in Ascending Order: ', nums)"
      ],
      "metadata": {
        "colab": {
          "base_uri": "https://localhost:8080/"
        },
        "id": "1HPL5DfU4YOq",
        "outputId": "241799cf-92da-4605-dd51-f8766aa98e57"
      },
      "execution_count": 3,
      "outputs": [
        {
          "output_type": "stream",
          "name": "stdout",
          "text": [
            "List in Ascending Order:  [1, 2, 3, 4, 5]\n"
          ]
        }
      ]
    },
    {
      "cell_type": "markdown",
      "source": [
        "**#5**"
      ],
      "metadata": {
        "id": "KaxbgN_x4t1B"
      }
    },
    {
      "cell_type": "code",
      "source": [
        "numbers = [5, 4, 3, 2, 1]\n",
        "x = len(numbers)\n",
        "print(x)"
      ],
      "metadata": {
        "colab": {
          "base_uri": "https://localhost:8080/"
        },
        "id": "6crz6-Ew4v14",
        "outputId": "943d29ff-a2ad-4312-d592-8d7c2a78af88"
      },
      "execution_count": 4,
      "outputs": [
        {
          "output_type": "stream",
          "name": "stdout",
          "text": [
            "5\n"
          ]
        }
      ]
    }
  ]
}