{
  "nbformat": 4,
  "nbformat_minor": 0,
  "metadata": {
    "colab": {
      "provenance": [],
      "authorship_tag": "ABX9TyMf1gV7gnMOaLIAlErH7rZn",
      "include_colab_link": true
    },
    "kernelspec": {
      "name": "python3",
      "display_name": "Python 3"
    },
    "language_info": {
      "name": "python"
    }
  },
  "cells": [
    {
      "cell_type": "markdown",
      "metadata": {
        "id": "view-in-github",
        "colab_type": "text"
      },
      "source": [
        "<a href=\"https://colab.research.google.com/github/GARCIA-Amwell/58010-DSAA/blob/main/Example_1.ipynb\" target=\"_parent\"><img src=\"https://colab.research.google.com/assets/colab-badge.svg\" alt=\"Open In Colab\"/></a>"
      ]
    },
    {
      "cell_type": "markdown",
      "source": [
        "Create a Python program thatcomputes the area of a circle"
      ],
      "metadata": {
        "id": "AAvMlB3QKfqk"
      }
    },
    {
      "cell_type": "code",
      "source": [
        "class Circle:\n",
        "    def __init__(self, radius):\n",
        "      self.radius = radius\n",
        "      self.pi = 3.14\n",
        "\n",
        "    def Area(self):\n",
        "      return self.pi * self.radius ** 2\n",
        "\n",
        "    def Display(self):\n",
        "      print(\"Area: \", self.Area())\n",
        "\n",
        "radius = float(input(\"Enter radius of the circle: \"))\n",
        "c = Circle (radius)\n",
        "c.Display()\n"
      ],
      "metadata": {
        "colab": {
          "base_uri": "https://localhost:8080/"
        },
        "id": "q5jb8Ie8JeXN",
        "outputId": "50c24779-888c-4520-86ad-7bd43b461473"
      },
      "execution_count": 24,
      "outputs": [
        {
          "output_type": "stream",
          "name": "stdout",
          "text": [
            "Enter radius of the circle: 10\n",
            "Area:  314.0\n"
          ]
        }
      ]
    },
    {
      "cell_type": "markdown",
      "source": [],
      "metadata": {
        "id": "8YLlD-fOKpjK"
      }
    },
    {
      "cell_type": "code",
      "source": [
        "class Shapes:\n",
        "  def __init__(self, width, length):\n",
        "    self.width = width\n",
        "    self.length = length\n",
        "\n",
        "class Rectangle(Shapes):\n",
        "  def area_rectangle(self):\n",
        "    print (self.length*self.width)\n",
        "\n",
        "rectangle = Rectangle(10,5)\n",
        "\n",
        "print(rectangle.area_rectangle())"
      ],
      "metadata": {
        "colab": {
          "base_uri": "https://localhost:8080/"
        },
        "id": "EQRhyc_gJti9",
        "outputId": "5a2bf2e4-602a-4203-8ac7-24bd563f8b62"
      },
      "execution_count": 29,
      "outputs": [
        {
          "output_type": "stream",
          "name": "stdout",
          "text": [
            "50\n",
            "None\n"
          ]
        }
      ]
    }
  ]
}