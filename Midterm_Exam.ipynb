{
  "nbformat": 4,
  "nbformat_minor": 0,
  "metadata": {
    "colab": {
      "provenance": [],
      "authorship_tag": "ABX9TyOoUzbJ0G2KF5KH8Qt/pUi+",
      "include_colab_link": true
    },
    "kernelspec": {
      "name": "python3",
      "display_name": "Python 3"
    },
    "language_info": {
      "name": "python"
    }
  },
  "cells": [
    {
      "cell_type": "markdown",
      "metadata": {
        "id": "view-in-github",
        "colab_type": "text"
      },
      "source": [
        "<a href=\"https://colab.research.google.com/github/GARCIA-Amwell/58010-DSAA/blob/main/Midterm_Exam.ipynb\" target=\"_parent\"><img src=\"https://colab.research.google.com/assets/colab-badge.svg\" alt=\"Open In Colab\"/></a>"
      ]
    },
    {
      "cell_type": "markdown",
      "source": [
        "## **VERTICES**"
      ],
      "metadata": {
        "id": "ZUQvMuUwu91T"
      }
    },
    {
      "cell_type": "code",
      "execution_count": 3,
      "metadata": {
        "colab": {
          "base_uri": "https://localhost:8080/"
        },
        "id": "7ANEr2EGffcl",
        "outputId": "538c8d94-56ad-4ef4-f931-f852f71146d2"
      },
      "outputs": [
        {
          "output_type": "stream",
          "name": "stdout",
          "text": [
            "['A', 'B', 'C', 'D', 'E', 'F', 'G', 'I', 'J', 'K', 'L', 'M', 'N', 'O', 'P']\n"
          ]
        }
      ],
      "source": [
        "class graph:\n",
        "  def __init__(self,gdict=None):\n",
        "    if gdict is None:\n",
        "      gdict = []\n",
        "    self.gdict = gdict\n",
        "\n",
        "# Get the keys of the dictionary\n",
        "  def getVertices(self):\n",
        "    return list(self.gdict.keys())\n",
        "\n",
        "# Create the dictionary with graph elements\n",
        "graph_elements = {\n",
        "    \"A\" : [\"B\"],\n",
        "    \"B\" : [\"F\", \"C\",\"E\"],\n",
        "    \"C\" : [\"D\"],\n",
        "    \"D\" : [\"K\", \"L\"],\n",
        "    \"E\" : [\"C\",\"N\"],\n",
        "    \"F\" : [\"C\",\"I\",\"G\"],\n",
        "    \"G\" : [\"I\",\"J\"],\n",
        "    \"I\" : [\"K\",\"J\"],\n",
        "    \"J\" : [\"K\"],\n",
        "    \"K\" : [\"\"],\n",
        "    \"L\" : [\"\"],\n",
        "    \"M\" : [\"O\",\"P\",\"L\"],\n",
        "    \"N\" : [\"N\",\"M\"],\n",
        "    \"O\" : [\"P\"],\n",
        "    \"P\" : [\"L\"],\n",
        "}\n",
        "g = graph(graph_elements)\n",
        "print(g.getVertices())"
      ]
    },
    {
      "cell_type": "markdown",
      "source": [
        "## **EDGES**"
      ],
      "metadata": {
        "id": "MvGBNV8-xGre"
      }
    },
    {
      "cell_type": "code",
      "source": [
        "class graph:\n",
        "  def __init__(self,gdict=None):\n",
        "    if gdict is None:\n",
        "      gdict = {}\n",
        "    self.gdict = gdict\n",
        "\n",
        "  def edges(self):\n",
        "    return self.findedges()\n",
        "#Find the distinct list of edges\n",
        "  def findedges(self):\n",
        "    edgename = []\n",
        "    for vrtx in self.gdict:\n",
        "      for nxtvrtx in self.gdict[vrtx]:\n",
        "        if {nxtvrtx, vrtx} not in edgename:\n",
        "          edgename.append({vrtx, nxtvrtx})\n",
        "    return edgename\n",
        "\n",
        "# Create the dictionary with graph elements\n",
        "graph_elements = {\n",
        "    \"A\" : [\"B\"],\n",
        "    \"B\" : [\"F\", \"C\",\"E\"],\n",
        "    \"C\" : [\"D\"],\n",
        "    \"D\" : [\"K\", \"L\"],\n",
        "    \"E\" : [\"C\",\"N\"],\n",
        "    \"F\" : [\"C\",\"I\",\"G\"],\n",
        "    \"G\" : [\"I\",\"J\"],\n",
        "    \"I\" : [\"K\",\"J\"],\n",
        "    \"J\" : [\"K\"],\n",
        "    \"K\" : [\"\"],\n",
        "    \"L\" : [\"\"],\n",
        "    \"M\" : [\"O\",\"P\",\"L\"],\n",
        "    \"N\" : [\"N\",\"M\"],\n",
        "    \"O\" : [\"P\"],\n",
        "    \"P\" : [\"L\"],\n",
        "}\n",
        "g = graph(graph_elements)\n",
        "print(g.edges())\n",
        ""
      ],
      "metadata": {
        "colab": {
          "base_uri": "https://localhost:8080/"
        },
        "id": "MrZNl3VexKz0",
        "outputId": "782f1512-3a25-4a33-ff8b-6ea6c200acdd"
      },
      "execution_count": 4,
      "outputs": [
        {
          "output_type": "stream",
          "name": "stdout",
          "text": [
            "[{'B', 'A'}, {'B', 'F'}, {'B', 'C'}, {'B', 'E'}, {'D', 'C'}, {'D', 'K'}, {'D', 'L'}, {'E', 'C'}, {'N', 'E'}, {'F', 'C'}, {'I', 'F'}, {'F', 'G'}, {'I', 'G'}, {'J', 'G'}, {'K', 'I'}, {'I', 'J'}, {'K', 'J'}, {'K', ''}, {'', 'L'}, {'M', 'O'}, {'P', 'M'}, {'L', 'M'}, {'N'}, {'N', 'M'}, {'P', 'O'}, {'P', 'L'}]\n"
          ]
        }
      ]
    }
  ]
}