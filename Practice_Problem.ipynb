{
  "nbformat": 4,
  "nbformat_minor": 0,
  "metadata": {
    "colab": {
      "provenance": [],
      "authorship_tag": "ABX9TyMVMvXCnfAh+MkFBVGp2b95",
      "include_colab_link": true
    },
    "kernelspec": {
      "name": "python3",
      "display_name": "Python 3"
    },
    "language_info": {
      "name": "python"
    }
  },
  "cells": [
    {
      "cell_type": "markdown",
      "metadata": {
        "id": "view-in-github",
        "colab_type": "text"
      },
      "source": [
        "<a href=\"https://colab.research.google.com/github/GARCIA-Amwell/58010-DSAA/blob/main/Practice_Problem.ipynb\" target=\"_parent\"><img src=\"https://colab.research.google.com/assets/colab-badge.svg\" alt=\"Open In Colab\"/></a>"
      ]
    },
    {
      "cell_type": "code",
      "source": [
        "no = [26, 49, 98, 87, 62, 75]\n",
        "def conditionalSum(value, condition):\n",
        "    s = 0\n",
        "    if condition == \"even\":\n",
        "        for i in value:\n",
        "            if i % 2 == 0:\n",
        "                s += i\n",
        "    return s\n",
        "\n",
        "print(conditionalSum(l,\"even\"))"
      ],
      "metadata": {
        "colab": {
          "base_uri": "https://localhost:8080/"
        },
        "id": "n0IqYazS1k5j",
        "outputId": "79ec0623-a428-4af5-f90c-23690bb24125"
      },
      "execution_count": 11,
      "outputs": [
        {
          "output_type": "stream",
          "name": "stdout",
          "text": [
            "186\n"
          ]
        }
      ]
    }
  ]
}