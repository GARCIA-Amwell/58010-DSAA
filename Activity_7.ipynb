{
  "nbformat": 4,
  "nbformat_minor": 0,
  "metadata": {
    "colab": {
      "provenance": [],
      "authorship_tag": "ABX9TyMhBVPUpbvnq/MbpTs5COAx",
      "include_colab_link": true
    },
    "kernelspec": {
      "name": "python3",
      "display_name": "Python 3"
    },
    "language_info": {
      "name": "python"
    }
  },
  "cells": [
    {
      "cell_type": "markdown",
      "metadata": {
        "id": "view-in-github",
        "colab_type": "text"
      },
      "source": [
        "<a href=\"https://colab.research.google.com/github/GARCIA-Amwell/58010-DSAA/blob/main/Activity_7.ipynb\" target=\"_parent\"><img src=\"https://colab.research.google.com/assets/colab-badge.svg\" alt=\"Open In Colab\"/></a>"
      ]
    },
    {
      "cell_type": "markdown",
      "source": [
        "# **Graph 27**"
      ],
      "metadata": {
        "id": "Y4S0142ppMcN"
      }
    },
    {
      "cell_type": "markdown",
      "source": [
        "**Display Graph Edges**"
      ],
      "metadata": {
        "id": "B9vnM5RrpTum"
      }
    },
    {
      "cell_type": "code",
      "execution_count": 2,
      "metadata": {
        "colab": {
          "base_uri": "https://localhost:8080/"
        },
        "id": "7UkdEmBppJd9",
        "outputId": "61bafe52-db51-4159-d857-9171200fc3f2"
      },
      "outputs": [
        {
          "output_type": "stream",
          "name": "stdout",
          "text": [
            "[{'Q', 'S'}, {'Q', 'T'}, {'Q', 'W'}, {'R', 'U'}, {'R', 'Y'}, {'V', 'S'}, {'T', 'X'}, {'T', 'Y'}, {'Y', 'U'}, {'V', 'W'}, {'S', 'W'}, {'Z', 'X'}, {'Q', 'Y'}]\n"
          ]
        }
      ],
      "source": [
        "#Display Graph Edges\n",
        "\n",
        "class graph:\n",
        "  def __init__(self,gdict=None):\n",
        "    if gdict is None:\n",
        "      gdict = {}\n",
        "    self.gdict = gdict\n",
        "\n",
        "  def edges(self):\n",
        "    return self.findedges()\n",
        "#Find the distinct list of edges\n",
        "  def findedges(self):\n",
        "    edgename = []\n",
        "    for vrtx in self.gdict:\n",
        "      for nxtvrtx in self.gdict[vrtx]:\n",
        "        if {nxtvrtx, vrtx} not in edgename:\n",
        "          edgename.append({vrtx, nxtvrtx})\n",
        "    return edgename\n",
        "\n",
        "# Create the dictionary with graph elements\n",
        "graph_elements = {\n",
        "    \"Q\" : [\"S\",\"T\",\"W\"],\n",
        "    \"R\" : [\"U\", \"Y\"],\n",
        "    \"S\" : [\"V\"],\n",
        "    \"T\" : [\"X\", \"Y\"],\n",
        "    \"U\" : [\"Y\"],\n",
        "    \"V\" : [\"W\"],\n",
        "    \"W\" : [\"S\"],\n",
        "    \"X\" : [\"Z\"],\n",
        "    \"Y\" : [\"Q\"],\n",
        "    \"Z\" : [\"X\"],\n",
        "}\n",
        "g = graph(graph_elements)\n",
        "print(g.edges())"
      ]
    },
    {
      "cell_type": "code",
      "source": [
        "#Display Graph Vertices\n",
        "\n",
        "class graph:\n",
        "  def __init__(self,gdict=None):\n",
        "    if gdict is None:\n",
        "      gdict = []\n",
        "    self.gdict = gdict\n",
        "\n",
        "# Get the keys of the dictionary\n",
        "  def getVertices(self):\n",
        "    return list(self.gdict.keys())\n",
        "\n",
        "# Create the dictionary with graph elements\n",
        "graph_elements = {\n",
        "    \"Q\" : [\"S\",\"T\",\"W\"],\n",
        "    \"R\" : [\"U\", \"Y\"],\n",
        "    \"S\" : [\"V\"],\n",
        "    \"T\" : [\"X\", \"Y\"],\n",
        "    \"U\" : [\"Y\"],\n",
        "    \"V\" : [\"W\"],\n",
        "    \"W\" : [\"S\"],\n",
        "    \"X\" : [\"Z\"],\n",
        "    \"Y\" : [\"Q\"],\n",
        "    \"Z\" : [\"X\"],\n",
        "}\n",
        "g = graph(graph_elements)\n",
        "print(g.getVertices())"
      ],
      "metadata": {
        "colab": {
          "base_uri": "https://localhost:8080/"
        },
        "id": "EwoqyTCZrYwr",
        "outputId": "e6464270-e3c4-4278-c35d-3944e79064e2"
      },
      "execution_count": 3,
      "outputs": [
        {
          "output_type": "stream",
          "name": "stdout",
          "text": [
            "['Q', 'R', 'S', 'T', 'U', 'V', 'W', 'X', 'Y', 'Z']\n"
          ]
        }
      ]
    }
  ]
}