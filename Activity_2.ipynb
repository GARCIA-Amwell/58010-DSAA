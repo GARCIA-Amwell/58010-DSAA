{
  "nbformat": 4,
  "nbformat_minor": 0,
  "metadata": {
    "colab": {
      "provenance": [],
      "authorship_tag": "ABX9TyPbaZiQD0HNM108m7ZUzLx7",
      "include_colab_link": true
    },
    "kernelspec": {
      "name": "python3",
      "display_name": "Python 3"
    },
    "language_info": {
      "name": "python"
    }
  },
  "cells": [
    {
      "cell_type": "markdown",
      "metadata": {
        "id": "view-in-github",
        "colab_type": "text"
      },
      "source": [
        "<a href=\"https://colab.research.google.com/github/GARCIA-Amwell/58010-DSAA/blob/main/Activity_2.ipynb\" target=\"_parent\"><img src=\"https://colab.research.google.com/assets/colab-badge.svg\" alt=\"Open In Colab\"/></a>"
      ]
    },
    {
      "cell_type": "code",
      "source": [
        "def isPrime(n):\n",
        "    if (n % 2 == 0):\n",
        "        return False\n",
        "    for i in range(3, int(n**0.5 + 1), 2):\n",
        "        if (n % i == 0):\n",
        "            return False\n",
        "    return True\n",
        "\n",
        "def getFirstPrimes(n):\n",
        "    primes = [2]\n",
        "    num = 3\n",
        "    while (len(primes) < n):\n",
        "        if(isPrime(num)):\n",
        "            primes.append(num)\n",
        "        num = num + 2\n",
        "    return primes\n",
        "\n",
        "print('Prime Numbers from 1 - 20: ', getFirstPrimes(8))\n",
        "print('Head: 2')\n",
        "print('Tail: 19')"
      ],
      "metadata": {
        "colab": {
          "base_uri": "https://localhost:8080/"
        },
        "id": "qmKOzGGQDNfZ",
        "outputId": "ee940a7b-70af-4620-8cfe-bcae1409185a"
      },
      "execution_count": null,
      "outputs": [
        {
          "output_type": "stream",
          "name": "stdout",
          "text": [
            "Prime Numbers from 1 - 20:  [2, 3, 5, 7, 11, 13, 17, 19]\n",
            "Head: 2\n",
            "Tail: 19\n"
          ]
        }
      ]
    }
  ]
}