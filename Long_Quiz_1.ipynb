{
  "nbformat": 4,
  "nbformat_minor": 0,
  "metadata": {
    "colab": {
      "provenance": [],
      "authorship_tag": "ABX9TyNoQz/YC/pDcI/+qShO/M0U",
      "include_colab_link": true
    },
    "kernelspec": {
      "name": "python3",
      "display_name": "Python 3"
    },
    "language_info": {
      "name": "python"
    }
  },
  "cells": [
    {
      "cell_type": "markdown",
      "metadata": {
        "id": "view-in-github",
        "colab_type": "text"
      },
      "source": [
        "<a href=\"https://colab.research.google.com/github/GARCIA-Amwell/58010-DSAA/blob/main/Long_Quiz_1.ipynb\" target=\"_parent\"><img src=\"https://colab.research.google.com/assets/colab-badge.svg\" alt=\"Open In Colab\"/></a>"
      ]
    },
    {
      "cell_type": "markdown",
      "source": [
        "**#1**\n",
        "\n",
        "Create a python or C++ program that appends each character of your full name and displays each character in reverse order (50 points)"
      ],
      "metadata": {
        "id": "863zaQ30JxQ-"
      }
    },
    {
      "cell_type": "code",
      "source": [
        "first_name = list(input(\"Enter first name: \"))\n",
        "second_name = list(input(\"Enter second name: \"))\n",
        "first_name.append(second_name)\n",
        "print(first_name)\n",
        "first_name.reverse()\n",
        "second_name.reverse()\n",
        "print(first_name)\n"
      ],
      "metadata": {
        "colab": {
          "base_uri": "https://localhost:8080/"
        },
        "id": "sxAGGUDRZYRu",
        "outputId": "ad6527c8-9fe0-4f74-c4d9-9695f9051525"
      },
      "execution_count": 2,
      "outputs": [
        {
          "output_type": "stream",
          "name": "stdout",
          "text": [
            "Enter first name: amwell\n",
            "Enter second name: garcia\n",
            "['a', 'm', 'w', 'e', 'l', 'l', ['g', 'a', 'r', 'c', 'i', 'a']]\n",
            "[['a', 'i', 'c', 'r', 'a', 'g'], 'l', 'l', 'e', 'w', 'm', 'a']\n"
          ]
        }
      ]
    },
    {
      "cell_type": "markdown",
      "source": [
        "**#2**\n",
        "Using the set of positive whole numbers from 1 to 10, create a python or C++ program that displays if it is prime or composite. (50 points)"
      ],
      "metadata": {
        "id": "_NvZjfSBJ97f"
      }
    },
    {
      "cell_type": "code",
      "source": [
        "def is_prime(int):\n",
        "    if int <= 1:\n",
        "        return False\n",
        "    if int <= 3:\n",
        "        return True\n",
        "    if int % 2 == 0 or int % 3 == 0:\n",
        "        return False\n",
        "    i = 5\n",
        "    while i * i <= int:\n",
        "        if int % i == 0 or int % (i + 2) == 0:\n",
        "            return False\n",
        "        i += 6\n",
        "    return True\n",
        "\n",
        "for int in range(1, 11):\n",
        "    if is_prime(int):\n",
        "        print(f\"{int} is prime.\")\n",
        "    else:\n",
        "        print(f\"{int} is composite.\")"
      ],
      "metadata": {
        "colab": {
          "base_uri": "https://localhost:8080/"
        },
        "id": "F1poQh2PdE8G",
        "outputId": "21211828-2db7-44e6-8ae9-ee5d0f7deed4"
      },
      "execution_count": 8,
      "outputs": [
        {
          "output_type": "stream",
          "name": "stdout",
          "text": [
            "1 is composite.\n",
            "2 is prime.\n",
            "3 is prime.\n",
            "4 is composite.\n",
            "5 is prime.\n",
            "6 is composite.\n",
            "7 is prime.\n",
            "8 is composite.\n",
            "9 is composite.\n",
            "10 is composite.\n"
          ]
        }
      ]
    }
  ]
}